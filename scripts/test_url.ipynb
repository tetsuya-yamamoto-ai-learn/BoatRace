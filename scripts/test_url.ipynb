{
 "cells": [
  {
   "cell_type": "markdown",
   "metadata": {},
   "source": [
    "# ボートレース予測\n",
    "\n",
    "ボートレースを予測するアプリを作成する。このノートブックは種々の関数をお試しするためのもの"
   ]
  },
  {
   "cell_type": "markdown",
   "metadata": {},
   "source": [
    "## 1. 予測に対して結果を確認するプログラムを準備する"
   ]
  },
  {
   "cell_type": "code",
   "execution_count": 23,
   "metadata": {},
   "outputs": [],
   "source": [
    "import requests\n",
    "from bs4 import BeautifulSoup"
   ]
  },
  {
   "cell_type": "code",
   "execution_count": null,
   "metadata": {},
   "outputs": [],
   "source": []
  },
  {
   "cell_type": "code",
   "execution_count": 110,
   "metadata": {},
   "outputs": [
    {
     "name": "stdout",
     "output_type": "stream",
     "text": [
      "2 戸田 ＢＡＣＨプラザ杯\n",
      "10:51\n",
      "11:15\n",
      "11:40\n",
      "12:06\n",
      "12:33\n",
      "13:00\n",
      "13:28\n",
      "13:56\n",
      "14:25\n",
      "14:54\n",
      "15:24\n",
      "15:55\n"
     ]
    }
   ],
   "source": [
    "############設定##################\n",
    "driver_path = '/usr/local/bin/chromedriver'\n",
    "date = \"20211119\"\n",
    "##################################\n",
    "\n",
    "# boatrace.jpの当日のレースへアクセスしてHTMLを取得\n",
    "res = requests.get(f'https://www.boatrace.jp/owpc/pc/race/index?hd={date}')\n",
    "\n",
    "# その日の出走時刻とリンクを取得\n",
    "for cd in range(1, 25): # BOATRACEオフィシャルサイトにアクセス\n",
    "    # 解析準備\n",
    "    res = requests.get(f\"https://www.boatrace.jp/owpc/pc/race/raceindex?jcd={cd:02}&hd={date}\")\n",
    "    soup = BeautifulSoup(res.text, 'html.parser')\n",
    "    \n",
    "    # レースデータがない場合はスキップ\n",
    "    if soup.main.span.string=='データがありません。':\n",
    "        continue\n",
    "    else:\n",
    "        # レース情報の確認\n",
    "        print(cd, soup.main.div.div.div.div.div.div.img['alt'], soup.main.div.div.div.div.h2.string)\n",
    "\n",
    "        # 出走時刻を確認\n",
    "        for race_col in soup.main.div.div.div.find_all('div')[4].find_all('div')[2].find_all(\"tbody\"):\n",
    "            print(html_time.find_all('td')[1].string)\n",
    "\n",
    "\n",
    "        break\n",
    "    # print(cd, soup.main.span.string=='データがありません。')\n",
    "\n",
    "# 時刻になったらその該当のページにアクセスして結果を取得\n",
    "\n",
    "# 予想と結果を比較して収支を計算\n",
    "\n"
   ]
  },
  {
   "cell_type": "code",
   "execution_count": 106,
   "metadata": {},
   "outputs": [
    {
     "data": {
      "text/plain": [
       "'10:51'"
      ]
     },
     "execution_count": 106,
     "metadata": {},
     "output_type": "execute_result"
    }
   ],
   "source": [
    "soup.main.div.div.div.find_all('div')[4].find_all('div')[2].find_all(\"tbody\")[0].find_all('td')[1].string"
   ]
  }
 ],
 "metadata": {
  "interpreter": {
   "hash": "0909ab2f6c9c39be17afdc2bc8226a72ec92441a8a19831eb9e5a6f3a1c5b809"
  },
  "kernelspec": {
   "display_name": "Python 3.8.12 64-bit ('py38_boat_race': conda)",
   "name": "python3"
  },
  "language_info": {
   "codemirror_mode": {
    "name": "ipython",
    "version": 3
   },
   "file_extension": ".py",
   "mimetype": "text/x-python",
   "name": "python",
   "nbconvert_exporter": "python",
   "pygments_lexer": "ipython3",
   "version": "3.8.12"
  },
  "orig_nbformat": 4
 },
 "nbformat": 4,
 "nbformat_minor": 2
}
